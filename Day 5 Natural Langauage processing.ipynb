{
 "cells": [
  {
   "cell_type": "code",
   "execution_count": 38,
   "id": "e5dfeeed",
   "metadata": {},
   "outputs": [],
   "source": [
    "import nltk"
   ]
  },
  {
   "cell_type": "code",
   "execution_count": 39,
   "id": "006db803",
   "metadata": {},
   "outputs": [
    {
     "name": "stderr",
     "output_type": "stream",
     "text": [
      "[nltk_data] Error loading punkt: <urlopen error [WinError 10054] An\n",
      "[nltk_data]     existing connection was forcibly closed by the remote\n",
      "[nltk_data]     host>\n",
      "[nltk_data] Error loading averaged_perceptron_tagger: <urlopen error\n",
      "[nltk_data]     [WinError 10054] An existing connection was forcibly\n",
      "[nltk_data]     closed by the remote host>\n",
      "[nltk_data] Error loading stopwords: <urlopen error [WinError 10054]\n",
      "[nltk_data]     An existing connection was forcibly closed by the\n",
      "[nltk_data]     remote host>\n",
      "[nltk_data] Error loading wordnet: <urlopen error [WinError 10054] An\n",
      "[nltk_data]     existing connection was forcibly closed by the remote\n",
      "[nltk_data]     host>\n",
      "[nltk_data] Error loading omw-1.4: <urlopen error [WinError 10054] An\n",
      "[nltk_data]     existing connection was forcibly closed by the remote\n",
      "[nltk_data]     host>\n"
     ]
    },
    {
     "data": {
      "text/plain": [
       "False"
      ]
     },
     "execution_count": 39,
     "metadata": {},
     "output_type": "execute_result"
    }
   ],
   "source": [
    "nltk.download('punkt')\n",
    "nltk.download('averaged_perceptron_tagger')\n",
    "nltk.download('stopwords')\n",
    "nltk.download('wordnet')\n",
    "nltk.download('omw-1.4')"
   ]
  },
  {
   "cell_type": "code",
   "execution_count": 40,
   "id": "774312d4",
   "metadata": {},
   "outputs": [],
   "source": [
    "sent = 'They told their ages are 21 25 and 23 respectively'"
   ]
  },
  {
   "cell_type": "markdown",
   "id": "f74f2bc8",
   "metadata": {},
   "source": [
    "###  Find the average of ages mentioned in the sentence."
   ]
  },
  {
   "cell_type": "code",
   "execution_count": 41,
   "id": "a85acffe",
   "metadata": {},
   "outputs": [],
   "source": [
    "ages = []\n",
    "for n in sent.split():\n",
    "  if n.isdigit():\n",
    "          ages.append(int(n))"
   ]
  },
  {
   "cell_type": "code",
   "execution_count": 42,
   "id": "68d1dae5",
   "metadata": {},
   "outputs": [
    {
     "data": {
      "text/plain": [
       "23.0"
      ]
     },
     "execution_count": 42,
     "metadata": {},
     "output_type": "execute_result"
    }
   ],
   "source": [
    "sum(ages)/ len(ages)"
   ]
  },
  {
   "cell_type": "code",
   "execution_count": 43,
   "id": "288587a8",
   "metadata": {},
   "outputs": [],
   "source": [
    "ages = [int(n) for n in sent.split()if n.isdigit()]"
   ]
  },
  {
   "cell_type": "code",
   "execution_count": 44,
   "id": "15c08bb6",
   "metadata": {},
   "outputs": [
    {
     "data": {
      "text/plain": [
       "23.0"
      ]
     },
     "execution_count": 44,
     "metadata": {},
     "output_type": "execute_result"
    }
   ],
   "source": [
    "sum(ages) / len(ages)"
   ]
  },
  {
   "cell_type": "markdown",
   "id": "2fded116",
   "metadata": {},
   "source": [
    "### Tokenization"
   ]
  },
  {
   "cell_type": "code",
   "execution_count": 45,
   "id": "c7625e91",
   "metadata": {},
   "outputs": [],
   "source": [
    "from nltk.tokenize import word_tokenize, sent_tokenize"
   ]
  },
  {
   "cell_type": "code",
   "execution_count": 46,
   "id": "516570ae",
   "metadata": {},
   "outputs": [],
   "source": [
    "sent = \"Hello friends! How are You? i hope, you like python programming.\""
   ]
  },
  {
   "cell_type": "code",
   "execution_count": 47,
   "id": "ff48a1f0",
   "metadata": {},
   "outputs": [
    {
     "data": {
      "text/plain": [
       "['Hello friends!', 'How are You?', 'i hope, you like python programming.']"
      ]
     },
     "execution_count": 47,
     "metadata": {},
     "output_type": "execute_result"
    }
   ],
   "source": [
    "sent_tokenize(sent)"
   ]
  },
  {
   "cell_type": "code",
   "execution_count": 48,
   "id": "9d735f3b",
   "metadata": {},
   "outputs": [
    {
     "data": {
      "text/plain": [
       "['Hello',\n",
       " 'friends',\n",
       " '!',\n",
       " 'How',\n",
       " 'are',\n",
       " 'You',\n",
       " '?',\n",
       " 'i',\n",
       " 'hope',\n",
       " ',',\n",
       " 'you',\n",
       " 'like',\n",
       " 'python',\n",
       " 'programming',\n",
       " '.']"
      ]
     },
     "execution_count": 48,
     "metadata": {},
     "output_type": "execute_result"
    }
   ],
   "source": [
    "word_tokenize(sent)"
   ]
  },
  {
   "cell_type": "markdown",
   "id": "172cd4c0",
   "metadata": {},
   "source": [
    "### Punctuation symbol remover"
   ]
  },
  {
   "cell_type": "code",
   "execution_count": 49,
   "id": "ee1d6bad",
   "metadata": {},
   "outputs": [
    {
     "data": {
      "text/plain": [
       "'!\"#$%&\\'()*+,-./:;<=>?@[\\\\]^_`{|}~'"
      ]
     },
     "execution_count": 49,
     "metadata": {},
     "output_type": "execute_result"
    }
   ],
   "source": [
    "import string\n",
    "string.punctuation"
   ]
  },
  {
   "cell_type": "code",
   "execution_count": 50,
   "id": "1bce3b79",
   "metadata": {},
   "outputs": [],
   "source": [
    "new = []\n",
    "for word in word_tokenize(sent):\n",
    "    if word not in string.punctuation:\n",
    "        new.append(word)\n",
    "    "
   ]
  },
  {
   "cell_type": "code",
   "execution_count": 51,
   "id": "9ee63ffb",
   "metadata": {},
   "outputs": [
    {
     "data": {
      "text/plain": [
       "'Hello friends How are You i hope you like python programming'"
      ]
     },
     "execution_count": 51,
     "metadata": {},
     "output_type": "execute_result"
    }
   ],
   "source": [
    "' '.join(new)"
   ]
  },
  {
   "cell_type": "markdown",
   "id": "f7a38682",
   "metadata": {},
   "source": [
    "### Porter stemmer"
   ]
  },
  {
   "cell_type": "code",
   "execution_count": 52,
   "id": "3bf6a30d",
   "metadata": {},
   "outputs": [],
   "source": [
    "words1 = 'plays','player','playing','played'\n",
    "words2 = 'go','gone','going','went'\n",
    "words3 = 'association','associated','associate', 'associating'\n",
    "words4 = 'bad','worse','worst','better'"
   ]
  },
  {
   "cell_type": "code",
   "execution_count": 53,
   "id": "f2e374eb",
   "metadata": {},
   "outputs": [
    {
     "data": {
      "text/plain": [
       "('plays', 'player', 'playing', 'played')"
      ]
     },
     "execution_count": 53,
     "metadata": {},
     "output_type": "execute_result"
    }
   ],
   "source": [
    "words1"
   ]
  },
  {
   "cell_type": "code",
   "execution_count": 54,
   "id": "4858ecdf",
   "metadata": {},
   "outputs": [],
   "source": [
    "from nltk.stem import PorterStemmer"
   ]
  },
  {
   "cell_type": "code",
   "execution_count": 55,
   "id": "021342e2",
   "metadata": {},
   "outputs": [],
   "source": [
    "\n",
    "ps = PorterStemmer()"
   ]
  },
  {
   "cell_type": "code",
   "execution_count": 56,
   "id": "beeac7ab",
   "metadata": {},
   "outputs": [
    {
     "data": {
      "text/plain": [
       "'play'"
      ]
     },
     "execution_count": 56,
     "metadata": {},
     "output_type": "execute_result"
    }
   ],
   "source": [
    "ps.stem(words1[0])"
   ]
  },
  {
   "cell_type": "code",
   "execution_count": 57,
   "id": "b474ee4f",
   "metadata": {},
   "outputs": [
    {
     "name": "stdout",
     "output_type": "stream",
     "text": [
      "play\n",
      "player\n",
      "play\n",
      "play\n"
     ]
    }
   ],
   "source": [
    "for word in words1:\n",
    "    print(ps.stem(word))"
   ]
  },
  {
   "cell_type": "code",
   "execution_count": 58,
   "id": "42901939",
   "metadata": {},
   "outputs": [
    {
     "name": "stdout",
     "output_type": "stream",
     "text": [
      "go\n",
      "gone\n",
      "go\n",
      "went\n"
     ]
    }
   ],
   "source": [
    "for word in words2:\n",
    "    print(ps.stem(word))"
   ]
  },
  {
   "cell_type": "code",
   "execution_count": 59,
   "id": "93964ccd",
   "metadata": {},
   "outputs": [
    {
     "name": "stdout",
     "output_type": "stream",
     "text": [
      "associ\n",
      "associ\n",
      "associ\n",
      "associ\n"
     ]
    }
   ],
   "source": [
    "for word in words3:\n",
    "    print(ps.stem(word))"
   ]
  },
  {
   "cell_type": "code",
   "execution_count": 60,
   "id": "513a17e4",
   "metadata": {},
   "outputs": [
    {
     "name": "stdout",
     "output_type": "stream",
     "text": [
      "bad\n",
      "wors\n",
      "worst\n",
      "better\n"
     ]
    }
   ],
   "source": [
    "for word in words4:\n",
    "    print(ps.stem(word))"
   ]
  },
  {
   "cell_type": "markdown",
   "id": "237e58dc",
   "metadata": {},
   "source": [
    "# Lancaster Stemmer"
   ]
  },
  {
   "cell_type": "code",
   "execution_count": 61,
   "id": "6812e36f",
   "metadata": {},
   "outputs": [],
   "source": [
    "from nltk.stem import LancasterStemmer"
   ]
  },
  {
   "cell_type": "code",
   "execution_count": 62,
   "id": "cb9f2bd6",
   "metadata": {},
   "outputs": [],
   "source": [
    "ls = LancasterStemmer()"
   ]
  },
  {
   "cell_type": "code",
   "execution_count": 63,
   "id": "1d6fd985",
   "metadata": {},
   "outputs": [
    {
     "name": "stdout",
     "output_type": "stream",
     "text": [
      "assocy\n",
      "assocy\n",
      "assocy\n",
      "assocy\n"
     ]
    }
   ],
   "source": [
    "for word in words3:\n",
    "    print(ls.stem(word))"
   ]
  },
  {
   "cell_type": "code",
   "execution_count": 64,
   "id": "0116c367",
   "metadata": {},
   "outputs": [
    {
     "name": "stdout",
     "output_type": "stream",
     "text": [
      "go\n",
      "gon\n",
      "going\n",
      "went\n"
     ]
    }
   ],
   "source": [
    "for word in words2:\n",
    "    print(ls.stem(word))"
   ]
  },
  {
   "cell_type": "code",
   "execution_count": 65,
   "id": "932beba6",
   "metadata": {},
   "outputs": [
    {
     "name": "stdout",
     "output_type": "stream",
     "text": [
      "bad\n",
      "wors\n",
      "worst\n",
      "bet\n"
     ]
    }
   ],
   "source": [
    "for word in words4:\n",
    "    print(ls.stem(word))"
   ]
  },
  {
   "cell_type": "markdown",
   "id": "c5fea618",
   "metadata": {},
   "source": [
    "# Lemmatization"
   ]
  },
  {
   "cell_type": "code",
   "execution_count": 66,
   "id": "e8443b48",
   "metadata": {},
   "outputs": [],
   "source": [
    "from nltk.stem import WordNetLemmatizer"
   ]
  },
  {
   "cell_type": "code",
   "execution_count": 67,
   "id": "6b288867",
   "metadata": {},
   "outputs": [],
   "source": [
    "wnl = WordNetLemmatizer()"
   ]
  },
  {
   "cell_type": "code",
   "execution_count": 68,
   "id": "95d30a12",
   "metadata": {},
   "outputs": [
    {
     "name": "stdout",
     "output_type": "stream",
     "text": [
      "Noun: player\n",
      "verb: players\n",
      "Adjective: players\n",
      "Adverb: players\n"
     ]
    }
   ],
   "source": [
    "word ='players'\n",
    "print('Noun:', wnl.lemmatize(word, pos ='n'))\n",
    "print('verb:', wnl.lemmatize(word, pos ='v'))\n",
    "print('Adjective:', wnl.lemmatize(word, pos ='a'))\n",
    "print('Adverb:', wnl.lemmatize(word, pos ='r'))"
   ]
  },
  {
   "cell_type": "code",
   "execution_count": 69,
   "id": "9e904582",
   "metadata": {},
   "outputs": [
    {
     "name": "stdout",
     "output_type": "stream",
     "text": [
      "Noun: working\n",
      "verb: work\n",
      "Adjective: working\n",
      "Adverb: working\n"
     ]
    }
   ],
   "source": [
    "word ='working'\n",
    "print('Noun:', wnl.lemmatize(word, pos ='n'))\n",
    "print('verb:', wnl.lemmatize(word, pos ='v'))\n",
    "print('Adjective:', wnl.lemmatize(word, pos ='a'))\n",
    "print('Adverb:', wnl.lemmatize(word, pos ='r'))"
   ]
  },
  {
   "cell_type": "code",
   "execution_count": 70,
   "id": "8cf9f855",
   "metadata": {},
   "outputs": [
    {
     "name": "stdout",
     "output_type": "stream",
     "text": [
      "Noun: went\n",
      "verb: go\n",
      "Adjective: went\n",
      "Adverb: went\n"
     ]
    }
   ],
   "source": [
    "word ='went'\n",
    "print('Noun:', wnl.lemmatize(word, pos ='n'))\n",
    "print('verb:', wnl.lemmatize(word, pos ='v'))\n",
    "print('Adjective:', wnl.lemmatize(word, pos ='a'))\n",
    "print('Adverb:', wnl.lemmatize(word, pos ='r'))"
   ]
  },
  {
   "cell_type": "code",
   "execution_count": 71,
   "id": "fa7d98f6",
   "metadata": {},
   "outputs": [
    {
     "name": "stdout",
     "output_type": "stream",
     "text": [
      "Noun: worst\n",
      "verb: worst\n",
      "Adjective: bad\n",
      "Adverb: worst\n"
     ]
    }
   ],
   "source": [
    "word ='worst'\n",
    "print('Noun:', wnl.lemmatize(word, pos ='n'))\n",
    "print('verb:', wnl.lemmatize(word, pos ='v'))\n",
    "print('Adjective:', wnl.lemmatize(word, pos ='a'))\n",
    "print('Adverb:', wnl.lemmatize(word, pos ='r'))"
   ]
  },
  {
   "cell_type": "code",
   "execution_count": 72,
   "id": "65d309d8",
   "metadata": {},
   "outputs": [
    {
     "name": "stdout",
     "output_type": "stream",
     "text": [
      "Noun: child\n",
      "verb: children\n",
      "Adjective: children\n",
      "Adverb: children\n"
     ]
    }
   ],
   "source": [
    "word ='children'\n",
    "print('Noun:', wnl.lemmatize(word, pos ='n'))\n",
    "print('verb:', wnl.lemmatize(word, pos ='v'))\n",
    "print('Adjective:', wnl.lemmatize(word, pos ='a'))\n",
    "print('Adverb:', wnl.lemmatize(word, pos ='r'))"
   ]
  },
  {
   "cell_type": "code",
   "execution_count": 73,
   "id": "0479139d",
   "metadata": {},
   "outputs": [
    {
     "name": "stdout",
     "output_type": "stream",
     "text": [
      "Noun: ate\n",
      "verb: eat\n",
      "Adjective: ate\n",
      "Adverb: ate\n"
     ]
    }
   ],
   "source": [
    "word ='ate'\n",
    "print('Noun:', wnl.lemmatize(word, pos ='n'))\n",
    "print('verb:', wnl.lemmatize(word, pos ='v'))\n",
    "print('Adjective:', wnl.lemmatize(word, pos ='a'))\n",
    "print('Adverb:', wnl.lemmatize(word, pos ='r'))"
   ]
  },
  {
   "cell_type": "code",
   "execution_count": 74,
   "id": "97f1eee9",
   "metadata": {},
   "outputs": [
    {
     "name": "stdout",
     "output_type": "stream",
     "text": [
      "Noun: literally\n",
      "verb: literally\n",
      "Adjective: literally\n",
      "Adverb: literally\n"
     ]
    }
   ],
   "source": [
    "word ='literally'\n",
    "print('Noun:', wnl.lemmatize(word, pos ='n'))\n",
    "print('verb:', wnl.lemmatize(word, pos ='v'))\n",
    "print('Adjective:', wnl.lemmatize(word, pos ='a'))\n",
    "print('Adverb:', wnl.lemmatize(word, pos ='r'))"
   ]
  },
  {
   "cell_type": "markdown",
   "id": "d54cb823",
   "metadata": {},
   "source": [
    "# POS Tagging"
   ]
  },
  {
   "cell_type": "code",
   "execution_count": 75,
   "id": "d9b09475",
   "metadata": {},
   "outputs": [],
   "source": [
    "sent = 'Hello friends! how are you? i hope, you like python programming.'"
   ]
  },
  {
   "cell_type": "code",
   "execution_count": 76,
   "id": "d32bfd85",
   "metadata": {},
   "outputs": [],
   "source": [
    "from nltk import pos_tag"
   ]
  },
  {
   "cell_type": "code",
   "execution_count": 78,
   "id": "99b7ade7",
   "metadata": {},
   "outputs": [],
   "source": [
    "tags = pos_tag(word_tokenize(sent))"
   ]
  },
  {
   "cell_type": "code",
   "execution_count": 79,
   "id": "f4932ccf",
   "metadata": {},
   "outputs": [
    {
     "data": {
      "text/plain": [
       "[('Hello', 'NNP'),\n",
       " ('friends', 'VBZ'),\n",
       " ('!', '.'),\n",
       " ('how', 'WRB'),\n",
       " ('are', 'VBP'),\n",
       " ('you', 'PRP'),\n",
       " ('?', '.'),\n",
       " ('i', \"''\"),\n",
       " ('hope', 'VBP'),\n",
       " (',', ','),\n",
       " ('you', 'PRP'),\n",
       " ('like', 'VBP'),\n",
       " ('python', 'JJ'),\n",
       " ('programming', 'NN'),\n",
       " ('.', '.')]"
      ]
     },
     "execution_count": 79,
     "metadata": {},
     "output_type": "execute_result"
    }
   ],
   "source": [
    "tags"
   ]
  },
  {
   "cell_type": "code",
   "execution_count": 84,
   "id": "3a200eaa",
   "metadata": {},
   "outputs": [
    {
     "name": "stdout",
     "output_type": "stream",
     "text": [
      "Hello\n",
      "programming\n"
     ]
    }
   ],
   "source": [
    "for word, tag in tags:\n",
    "    if tag.startswith('N'):\n",
    "        print(word)"
   ]
  },
  {
   "cell_type": "code",
   "execution_count": null,
   "id": "ceb65df3",
   "metadata": {},
   "outputs": [],
   "source": []
  },
  {
   "cell_type": "code",
   "execution_count": null,
   "id": "2806dd13",
   "metadata": {},
   "outputs": [],
   "source": []
  },
  {
   "cell_type": "code",
   "execution_count": null,
   "id": "88538b2c",
   "metadata": {},
   "outputs": [],
   "source": []
  },
  {
   "cell_type": "code",
   "execution_count": null,
   "id": "e5eed823",
   "metadata": {},
   "outputs": [],
   "source": []
  },
  {
   "cell_type": "code",
   "execution_count": null,
   "id": "fffe67dc",
   "metadata": {},
   "outputs": [],
   "source": []
  },
  {
   "cell_type": "code",
   "execution_count": null,
   "id": "2e433ae5",
   "metadata": {},
   "outputs": [],
   "source": []
  },
  {
   "cell_type": "code",
   "execution_count": null,
   "id": "1abbb4e4",
   "metadata": {},
   "outputs": [],
   "source": []
  },
  {
   "cell_type": "code",
   "execution_count": null,
   "id": "8996489f",
   "metadata": {},
   "outputs": [],
   "source": []
  },
  {
   "cell_type": "code",
   "execution_count": null,
   "id": "f3eaa55f",
   "metadata": {},
   "outputs": [],
   "source": []
  },
  {
   "cell_type": "code",
   "execution_count": null,
   "id": "233b9bf9",
   "metadata": {},
   "outputs": [],
   "source": []
  },
  {
   "cell_type": "code",
   "execution_count": null,
   "id": "ff88430e",
   "metadata": {},
   "outputs": [],
   "source": []
  },
  {
   "cell_type": "code",
   "execution_count": null,
   "id": "87d75e91",
   "metadata": {},
   "outputs": [],
   "source": []
  },
  {
   "cell_type": "code",
   "execution_count": null,
   "id": "d02c9b55",
   "metadata": {},
   "outputs": [],
   "source": []
  },
  {
   "cell_type": "code",
   "execution_count": null,
   "id": "5fa00d14",
   "metadata": {},
   "outputs": [],
   "source": []
  },
  {
   "cell_type": "code",
   "execution_count": null,
   "id": "9a65cb5a",
   "metadata": {},
   "outputs": [],
   "source": []
  }
 ],
 "metadata": {
  "kernelspec": {
   "display_name": "Python 3 (ipykernel)",
   "language": "python",
   "name": "python3"
  },
  "language_info": {
   "codemirror_mode": {
    "name": "ipython",
    "version": 3
   },
   "file_extension": ".py",
   "mimetype": "text/x-python",
   "name": "python",
   "nbconvert_exporter": "python",
   "pygments_lexer": "ipython3",
   "version": "3.11.5"
  }
 },
 "nbformat": 4,
 "nbformat_minor": 5
}
